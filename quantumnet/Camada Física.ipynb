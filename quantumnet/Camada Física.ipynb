{
 "cells": [
  {
   "cell_type": "code",
   "execution_count": null,
   "metadata": {},
   "outputs": [],
   "source": [
    "from quantumnet.components import Network, Host\n",
    "from quantumnet.objects import Qubit, Logger\n",
    "Logger.activate(Logger)"
   ]
  },
  {
   "cell_type": "code",
   "execution_count": null,
   "metadata": {},
   "outputs": [],
   "source": [
    "rede = Network()\n",
    "rede.set_ready_topology(\"Grade\", 2, 3)\n",
    "rede.draw()"
   ]
  },
  {
   "cell_type": "code",
   "execution_count": null,
   "metadata": {},
   "outputs": [],
   "source": [
    "# Criação de pares EPR\n",
    "alice = rede.get_host(0)\n",
    "bob = rede.get_host(1)\n",
    "# Adicionando qubits aos hosts\n",
    "alice.add_qubit(Qubit(0, 1))\n",
    "bob.add_qubit(Qubit(1, 1))\n",
    "# Acessando a memória dos hosts\n",
    "print(alice.memory)\n",
    "print(bob.memory)\n",
    "print(\"Canais: \", rede.edges)"
   ]
  },
  {
   "cell_type": "code",
   "execution_count": null,
   "metadata": {},
   "outputs": [],
   "source": [
    "# Usando as funções da camada física\n",
    "rede.start_hosts_and_channels()\n",
    "rede.physical.echp_on_replay(0, 1)"
   ]
  },
  {
   "cell_type": "code",
   "execution_count": 11,
   "metadata": {},
   "outputs": [
    {
     "data": {
      "text/plain": [
       "{'prob_on_demand_epr_create': 0.027869424388337727,\n",
       " 'prob_replay_epr_create': 0.4300486738542483,\n",
       " 'eprs': [<quantumnet.objects.epr.Epr at 0x1adc3db2600>]}"
      ]
     },
     "execution_count": 11,
     "metadata": {},
     "output_type": "execute_result"
    }
   ],
   "source": [
    "rede.edges[0, 1]"
   ]
  }
 ],
 "metadata": {
  "kernelspec": {
   "display_name": "Python 3",
   "language": "python",
   "name": "python3"
  },
  "language_info": {
   "codemirror_mode": {
    "name": "ipython",
    "version": 3
   },
   "file_extension": ".py",
   "mimetype": "text/x-python",
   "name": "python",
   "nbconvert_exporter": "python",
   "pygments_lexer": "ipython3",
   "version": "3.12.1"
  }
 },
 "nbformat": 4,
 "nbformat_minor": 2
}
